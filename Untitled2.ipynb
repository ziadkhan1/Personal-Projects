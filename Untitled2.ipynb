{
 "cells": [
  {
   "cell_type": "markdown",
   "id": "ff168750",
   "metadata": {},
   "source": [
    "My Jupyter Notebook on IBM Watson Studio"
   ]
  },
  {
   "cell_type": "markdown",
   "id": "8d6e69fd",
   "metadata": {},
   "source": [
    "Ziad\n",
    "Data scientist"
   ]
  },
  {
   "cell_type": "markdown",
   "id": "bb316c1d",
   "metadata": {},
   "source": [
    "*I am interested in data science because it is interesting*"
   ]
  },
  {
   "cell_type": "markdown",
   "id": "29ce2544",
   "metadata": {},
   "source": [
    "### The code is suppoosed to print hello world"
   ]
  },
  {
   "cell_type": "code",
   "execution_count": 2,
   "id": "0d828f1b",
   "metadata": {},
   "outputs": [
    {
     "name": "stdout",
     "output_type": "stream",
     "text": [
      "Hello world\n"
     ]
    }
   ],
   "source": [
    "print(\"Hello world\")"
   ]
  },
  {
   "cell_type": "markdown",
   "id": "55b4e4d7",
   "metadata": {},
   "source": [
    "1. a\n",
    "2. b\n",
    "> abcde\n",
    "***"
   ]
  }
 ],
 "metadata": {
  "kernelspec": {
   "display_name": "Python 3 (ipykernel)",
   "language": "python",
   "name": "python3"
  },
  "language_info": {
   "codemirror_mode": {
    "name": "ipython",
    "version": 3
   },
   "file_extension": ".py",
   "mimetype": "text/x-python",
   "name": "python",
   "nbconvert_exporter": "python",
   "pygments_lexer": "ipython3",
   "version": "3.9.12"
  }
 },
 "nbformat": 4,
 "nbformat_minor": 5
}
